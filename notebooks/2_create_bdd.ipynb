{
 "cells": [
  {
   "cell_type": "markdown",
   "id": "5c38e090",
   "metadata": {},
   "source": [
    "# Traitement et stockage des données issues du scraping\n",
    "\n",
    "Vous avez scrapé les données du site de livres et les avez stockées dans un fichier. \n",
    "\n",
    "L'objectif de ce notebook est de créer une base de données pour y stocker ces données."
   ]
  },
  {
   "cell_type": "code",
   "execution_count": 28,
   "id": "fc007873",
   "metadata": {},
   "outputs": [],
   "source": [
    "import sqlite3\n",
    "import pandas as pd"
   ]
  },
  {
   "cell_type": "markdown",
   "id": "dd34cc58",
   "metadata": {},
   "source": [
    "Lire les données du fichier sauvegardé en utilisant pandas."
   ]
  },
  {
   "cell_type": "code",
   "execution_count": 29,
   "id": "8aa4b567",
   "metadata": {},
   "outputs": [
    {
     "ename": "FileNotFoundError",
     "evalue": "[Errno 2] No such file or directory: '/home/jewao/scraping_repo/scraping/notebooks/books_infos.csv'",
     "output_type": "error",
     "traceback": [
      "\u001b[31m---------------------------------------------------------------------------\u001b[39m",
      "\u001b[31mFileNotFoundError\u001b[39m                         Traceback (most recent call last)",
      "\u001b[36mCell\u001b[39m\u001b[36m \u001b[39m\u001b[32mIn[29]\u001b[39m\u001b[32m, line 2\u001b[39m\n\u001b[32m      1\u001b[39m \u001b[38;5;66;03m# Lire les données du fichier que vous venez d'enregistrer\u001b[39;00m\n\u001b[32m----> \u001b[39m\u001b[32m2\u001b[39m df_books = \u001b[43mpd\u001b[49m\u001b[43m.\u001b[49m\u001b[43mread_csv\u001b[49m\u001b[43m(\u001b[49m\u001b[33;43m\"\u001b[39;49m\u001b[33;43m~/scraping_repo/scraping/notebooks/books_infos.csv\u001b[39;49m\u001b[33;43m\"\u001b[39;49m\u001b[43m)\u001b[49m\n\u001b[32m      3\u001b[39m df_books.head()\n",
      "\u001b[36mFile \u001b[39m\u001b[32m~/scraping_repo/scraping/.venv/lib/python3.12/site-packages/pandas/io/parsers/readers.py:1026\u001b[39m, in \u001b[36mread_csv\u001b[39m\u001b[34m(filepath_or_buffer, sep, delimiter, header, names, index_col, usecols, dtype, engine, converters, true_values, false_values, skipinitialspace, skiprows, skipfooter, nrows, na_values, keep_default_na, na_filter, verbose, skip_blank_lines, parse_dates, infer_datetime_format, keep_date_col, date_parser, date_format, dayfirst, cache_dates, iterator, chunksize, compression, thousands, decimal, lineterminator, quotechar, quoting, doublequote, escapechar, comment, encoding, encoding_errors, dialect, on_bad_lines, delim_whitespace, low_memory, memory_map, float_precision, storage_options, dtype_backend)\u001b[39m\n\u001b[32m   1013\u001b[39m kwds_defaults = _refine_defaults_read(\n\u001b[32m   1014\u001b[39m     dialect,\n\u001b[32m   1015\u001b[39m     delimiter,\n\u001b[32m   (...)\u001b[39m\u001b[32m   1022\u001b[39m     dtype_backend=dtype_backend,\n\u001b[32m   1023\u001b[39m )\n\u001b[32m   1024\u001b[39m kwds.update(kwds_defaults)\n\u001b[32m-> \u001b[39m\u001b[32m1026\u001b[39m \u001b[38;5;28;01mreturn\u001b[39;00m \u001b[43m_read\u001b[49m\u001b[43m(\u001b[49m\u001b[43mfilepath_or_buffer\u001b[49m\u001b[43m,\u001b[49m\u001b[43m \u001b[49m\u001b[43mkwds\u001b[49m\u001b[43m)\u001b[49m\n",
      "\u001b[36mFile \u001b[39m\u001b[32m~/scraping_repo/scraping/.venv/lib/python3.12/site-packages/pandas/io/parsers/readers.py:620\u001b[39m, in \u001b[36m_read\u001b[39m\u001b[34m(filepath_or_buffer, kwds)\u001b[39m\n\u001b[32m    617\u001b[39m _validate_names(kwds.get(\u001b[33m\"\u001b[39m\u001b[33mnames\u001b[39m\u001b[33m\"\u001b[39m, \u001b[38;5;28;01mNone\u001b[39;00m))\n\u001b[32m    619\u001b[39m \u001b[38;5;66;03m# Create the parser.\u001b[39;00m\n\u001b[32m--> \u001b[39m\u001b[32m620\u001b[39m parser = \u001b[43mTextFileReader\u001b[49m\u001b[43m(\u001b[49m\u001b[43mfilepath_or_buffer\u001b[49m\u001b[43m,\u001b[49m\u001b[43m \u001b[49m\u001b[43m*\u001b[49m\u001b[43m*\u001b[49m\u001b[43mkwds\u001b[49m\u001b[43m)\u001b[49m\n\u001b[32m    622\u001b[39m \u001b[38;5;28;01mif\u001b[39;00m chunksize \u001b[38;5;129;01mor\u001b[39;00m iterator:\n\u001b[32m    623\u001b[39m     \u001b[38;5;28;01mreturn\u001b[39;00m parser\n",
      "\u001b[36mFile \u001b[39m\u001b[32m~/scraping_repo/scraping/.venv/lib/python3.12/site-packages/pandas/io/parsers/readers.py:1620\u001b[39m, in \u001b[36mTextFileReader.__init__\u001b[39m\u001b[34m(self, f, engine, **kwds)\u001b[39m\n\u001b[32m   1617\u001b[39m     \u001b[38;5;28mself\u001b[39m.options[\u001b[33m\"\u001b[39m\u001b[33mhas_index_names\u001b[39m\u001b[33m\"\u001b[39m] = kwds[\u001b[33m\"\u001b[39m\u001b[33mhas_index_names\u001b[39m\u001b[33m\"\u001b[39m]\n\u001b[32m   1619\u001b[39m \u001b[38;5;28mself\u001b[39m.handles: IOHandles | \u001b[38;5;28;01mNone\u001b[39;00m = \u001b[38;5;28;01mNone\u001b[39;00m\n\u001b[32m-> \u001b[39m\u001b[32m1620\u001b[39m \u001b[38;5;28mself\u001b[39m._engine = \u001b[38;5;28;43mself\u001b[39;49m\u001b[43m.\u001b[49m\u001b[43m_make_engine\u001b[49m\u001b[43m(\u001b[49m\u001b[43mf\u001b[49m\u001b[43m,\u001b[49m\u001b[43m \u001b[49m\u001b[38;5;28;43mself\u001b[39;49m\u001b[43m.\u001b[49m\u001b[43mengine\u001b[49m\u001b[43m)\u001b[49m\n",
      "\u001b[36mFile \u001b[39m\u001b[32m~/scraping_repo/scraping/.venv/lib/python3.12/site-packages/pandas/io/parsers/readers.py:1880\u001b[39m, in \u001b[36mTextFileReader._make_engine\u001b[39m\u001b[34m(self, f, engine)\u001b[39m\n\u001b[32m   1878\u001b[39m     \u001b[38;5;28;01mif\u001b[39;00m \u001b[33m\"\u001b[39m\u001b[33mb\u001b[39m\u001b[33m\"\u001b[39m \u001b[38;5;129;01mnot\u001b[39;00m \u001b[38;5;129;01min\u001b[39;00m mode:\n\u001b[32m   1879\u001b[39m         mode += \u001b[33m\"\u001b[39m\u001b[33mb\u001b[39m\u001b[33m\"\u001b[39m\n\u001b[32m-> \u001b[39m\u001b[32m1880\u001b[39m \u001b[38;5;28mself\u001b[39m.handles = \u001b[43mget_handle\u001b[49m\u001b[43m(\u001b[49m\n\u001b[32m   1881\u001b[39m \u001b[43m    \u001b[49m\u001b[43mf\u001b[49m\u001b[43m,\u001b[49m\n\u001b[32m   1882\u001b[39m \u001b[43m    \u001b[49m\u001b[43mmode\u001b[49m\u001b[43m,\u001b[49m\n\u001b[32m   1883\u001b[39m \u001b[43m    \u001b[49m\u001b[43mencoding\u001b[49m\u001b[43m=\u001b[49m\u001b[38;5;28;43mself\u001b[39;49m\u001b[43m.\u001b[49m\u001b[43moptions\u001b[49m\u001b[43m.\u001b[49m\u001b[43mget\u001b[49m\u001b[43m(\u001b[49m\u001b[33;43m\"\u001b[39;49m\u001b[33;43mencoding\u001b[39;49m\u001b[33;43m\"\u001b[39;49m\u001b[43m,\u001b[49m\u001b[43m \u001b[49m\u001b[38;5;28;43;01mNone\u001b[39;49;00m\u001b[43m)\u001b[49m\u001b[43m,\u001b[49m\n\u001b[32m   1884\u001b[39m \u001b[43m    \u001b[49m\u001b[43mcompression\u001b[49m\u001b[43m=\u001b[49m\u001b[38;5;28;43mself\u001b[39;49m\u001b[43m.\u001b[49m\u001b[43moptions\u001b[49m\u001b[43m.\u001b[49m\u001b[43mget\u001b[49m\u001b[43m(\u001b[49m\u001b[33;43m\"\u001b[39;49m\u001b[33;43mcompression\u001b[39;49m\u001b[33;43m\"\u001b[39;49m\u001b[43m,\u001b[49m\u001b[43m \u001b[49m\u001b[38;5;28;43;01mNone\u001b[39;49;00m\u001b[43m)\u001b[49m\u001b[43m,\u001b[49m\n\u001b[32m   1885\u001b[39m \u001b[43m    \u001b[49m\u001b[43mmemory_map\u001b[49m\u001b[43m=\u001b[49m\u001b[38;5;28;43mself\u001b[39;49m\u001b[43m.\u001b[49m\u001b[43moptions\u001b[49m\u001b[43m.\u001b[49m\u001b[43mget\u001b[49m\u001b[43m(\u001b[49m\u001b[33;43m\"\u001b[39;49m\u001b[33;43mmemory_map\u001b[39;49m\u001b[33;43m\"\u001b[39;49m\u001b[43m,\u001b[49m\u001b[43m \u001b[49m\u001b[38;5;28;43;01mFalse\u001b[39;49;00m\u001b[43m)\u001b[49m\u001b[43m,\u001b[49m\n\u001b[32m   1886\u001b[39m \u001b[43m    \u001b[49m\u001b[43mis_text\u001b[49m\u001b[43m=\u001b[49m\u001b[43mis_text\u001b[49m\u001b[43m,\u001b[49m\n\u001b[32m   1887\u001b[39m \u001b[43m    \u001b[49m\u001b[43merrors\u001b[49m\u001b[43m=\u001b[49m\u001b[38;5;28;43mself\u001b[39;49m\u001b[43m.\u001b[49m\u001b[43moptions\u001b[49m\u001b[43m.\u001b[49m\u001b[43mget\u001b[49m\u001b[43m(\u001b[49m\u001b[33;43m\"\u001b[39;49m\u001b[33;43mencoding_errors\u001b[39;49m\u001b[33;43m\"\u001b[39;49m\u001b[43m,\u001b[49m\u001b[43m \u001b[49m\u001b[33;43m\"\u001b[39;49m\u001b[33;43mstrict\u001b[39;49m\u001b[33;43m\"\u001b[39;49m\u001b[43m)\u001b[49m\u001b[43m,\u001b[49m\n\u001b[32m   1888\u001b[39m \u001b[43m    \u001b[49m\u001b[43mstorage_options\u001b[49m\u001b[43m=\u001b[49m\u001b[38;5;28;43mself\u001b[39;49m\u001b[43m.\u001b[49m\u001b[43moptions\u001b[49m\u001b[43m.\u001b[49m\u001b[43mget\u001b[49m\u001b[43m(\u001b[49m\u001b[33;43m\"\u001b[39;49m\u001b[33;43mstorage_options\u001b[39;49m\u001b[33;43m\"\u001b[39;49m\u001b[43m,\u001b[49m\u001b[43m \u001b[49m\u001b[38;5;28;43;01mNone\u001b[39;49;00m\u001b[43m)\u001b[49m\u001b[43m,\u001b[49m\n\u001b[32m   1889\u001b[39m \u001b[43m\u001b[49m\u001b[43m)\u001b[49m\n\u001b[32m   1890\u001b[39m \u001b[38;5;28;01massert\u001b[39;00m \u001b[38;5;28mself\u001b[39m.handles \u001b[38;5;129;01mis\u001b[39;00m \u001b[38;5;129;01mnot\u001b[39;00m \u001b[38;5;28;01mNone\u001b[39;00m\n\u001b[32m   1891\u001b[39m f = \u001b[38;5;28mself\u001b[39m.handles.handle\n",
      "\u001b[36mFile \u001b[39m\u001b[32m~/scraping_repo/scraping/.venv/lib/python3.12/site-packages/pandas/io/common.py:873\u001b[39m, in \u001b[36mget_handle\u001b[39m\u001b[34m(path_or_buf, mode, encoding, compression, memory_map, is_text, errors, storage_options)\u001b[39m\n\u001b[32m    868\u001b[39m \u001b[38;5;28;01melif\u001b[39;00m \u001b[38;5;28misinstance\u001b[39m(handle, \u001b[38;5;28mstr\u001b[39m):\n\u001b[32m    869\u001b[39m     \u001b[38;5;66;03m# Check whether the filename is to be opened in binary mode.\u001b[39;00m\n\u001b[32m    870\u001b[39m     \u001b[38;5;66;03m# Binary mode does not support 'encoding' and 'newline'.\u001b[39;00m\n\u001b[32m    871\u001b[39m     \u001b[38;5;28;01mif\u001b[39;00m ioargs.encoding \u001b[38;5;129;01mand\u001b[39;00m \u001b[33m\"\u001b[39m\u001b[33mb\u001b[39m\u001b[33m\"\u001b[39m \u001b[38;5;129;01mnot\u001b[39;00m \u001b[38;5;129;01min\u001b[39;00m ioargs.mode:\n\u001b[32m    872\u001b[39m         \u001b[38;5;66;03m# Encoding\u001b[39;00m\n\u001b[32m--> \u001b[39m\u001b[32m873\u001b[39m         handle = \u001b[38;5;28;43mopen\u001b[39;49m\u001b[43m(\u001b[49m\n\u001b[32m    874\u001b[39m \u001b[43m            \u001b[49m\u001b[43mhandle\u001b[49m\u001b[43m,\u001b[49m\n\u001b[32m    875\u001b[39m \u001b[43m            \u001b[49m\u001b[43mioargs\u001b[49m\u001b[43m.\u001b[49m\u001b[43mmode\u001b[49m\u001b[43m,\u001b[49m\n\u001b[32m    876\u001b[39m \u001b[43m            \u001b[49m\u001b[43mencoding\u001b[49m\u001b[43m=\u001b[49m\u001b[43mioargs\u001b[49m\u001b[43m.\u001b[49m\u001b[43mencoding\u001b[49m\u001b[43m,\u001b[49m\n\u001b[32m    877\u001b[39m \u001b[43m            \u001b[49m\u001b[43merrors\u001b[49m\u001b[43m=\u001b[49m\u001b[43merrors\u001b[49m\u001b[43m,\u001b[49m\n\u001b[32m    878\u001b[39m \u001b[43m            \u001b[49m\u001b[43mnewline\u001b[49m\u001b[43m=\u001b[49m\u001b[33;43m\"\u001b[39;49m\u001b[33;43m\"\u001b[39;49m\u001b[43m,\u001b[49m\n\u001b[32m    879\u001b[39m \u001b[43m        \u001b[49m\u001b[43m)\u001b[49m\n\u001b[32m    880\u001b[39m     \u001b[38;5;28;01melse\u001b[39;00m:\n\u001b[32m    881\u001b[39m         \u001b[38;5;66;03m# Binary mode\u001b[39;00m\n\u001b[32m    882\u001b[39m         handle = \u001b[38;5;28mopen\u001b[39m(handle, ioargs.mode)\n",
      "\u001b[31mFileNotFoundError\u001b[39m: [Errno 2] No such file or directory: '/home/jewao/scraping_repo/scraping/notebooks/books_infos.csv'"
     ]
    }
   ],
   "source": [
    "# Lire les données du fichier que vous venez d'enregistrer\n",
    "df_books = pd.read_csv(\"~/scraping_repo/scraping/notebooks/books_infos.csv\")\n",
    "df_books.head()"
   ]
  },
  {
   "cell_type": "markdown",
   "id": "56d48fb1",
   "metadata": {},
   "source": [
    "## 1. Prétraitement des données\n",
    "\n",
    "On souhaite créer la table _book_ contenant les attributs suivants : \n",
    "- id : INT, PK,\n",
    "- title : TEXT,\n",
    "- price : DECIMAL\n",
    "- availability : BOOLEAN\n",
    "- rating : INT [0:5]\n",
    "\n",
    "Vérifier les types des colonnes du dataframe."
   ]
  },
  {
   "cell_type": "code",
   "execution_count": null,
   "id": "0505d094",
   "metadata": {},
   "outputs": [
    {
     "data": {
      "text/plain": [
       "Unnamed: 0       int64\n",
       "title           object\n",
       "price           object\n",
       "rating          object\n",
       "availability    object\n",
       "dtype: object"
      ]
     },
     "execution_count": 14,
     "metadata": {},
     "output_type": "execute_result"
    }
   ],
   "source": [
    "# Vérification des types de données\n",
    "df_books.dtypes\n"
   ]
  },
  {
   "cell_type": "markdown",
   "id": "1be2df09",
   "metadata": {},
   "source": [
    "Dans les cellules qui suivent, des méthodes de traitement de données sont suggérées pour donner un aperçu de ce qu'il est possible de faire avec pandas.\n",
    "\n",
    "**Il est tout à fait possible de faire autrement.**\n",
    "\n",
    "Utiliser la méthode pandas [_astype_](https://pandas.pydata.org/pandas-docs/stable/reference/api/pandas.DataFrame.astype.html) pour convertir la colonne de titre en chaîne de caractère."
   ]
  },
  {
   "cell_type": "code",
   "execution_count": null,
   "id": "10f0638f",
   "metadata": {},
   "outputs": [
    {
     "name": "stdout",
     "output_type": "stream",
     "text": [
      "string\n"
     ]
    },
    {
     "data": {
      "text/plain": [
       "Unnamed: 0               int64\n",
       "title           string[python]\n",
       "price                   object\n",
       "rating                  object\n",
       "availability            object\n",
       "dtype: object"
      ]
     },
     "execution_count": 15,
     "metadata": {},
     "output_type": "execute_result"
    }
   ],
   "source": [
    "# Conversion de title en chaîne de caractères\n",
    "df_books[\"title\"] = df_books[\"title\"].astype(\"string\")\n",
    "\n",
    "# Vérification du type de la colonne title\n",
    "print(df_books[\"title\"].dtype)\n",
    "\n",
    "df_books.dtypes"
   ]
  },
  {
   "cell_type": "markdown",
   "id": "e4e6b924",
   "metadata": {},
   "source": [
    "Pour convertir la colonne de prix en nombre décimal, il est nécessaire d'utiliser une étape intermédiaire pour retirer le caractère \"£\".\n",
    "\n",
    "Il est possible par exemple d'utiliser l'attribut [.str](https://pandas.pydata.org/pandas-docs/stable/reference/api/pandas.Series.str.html) de la série \"price\"."
   ]
  },
  {
   "cell_type": "code",
   "execution_count": null,
   "id": "5e6bd8ce",
   "metadata": {},
   "outputs": [
    {
     "name": "stdout",
     "output_type": "stream",
     "text": [
      "0    51.77\n",
      "1    53.74\n",
      "2    50.10\n",
      "3    47.82\n",
      "4    54.23\n",
      "Name: price, dtype: float64\n"
     ]
    }
   ],
   "source": [
    "# Convertir la colonne price en type décimal\n",
    "df_books[\"price\"] = df_books[\"price\"].str.replace(\"£\", \" \").astype(float)\n",
    "\n",
    "# Vérification du type de la colonne price\n",
    "print(df_books[\"price\"].head())"
   ]
  },
  {
   "cell_type": "markdown",
   "id": "a537478f",
   "metadata": {},
   "source": [
    "Convertir la colonne `availability` en boolen (True/False).\n",
    "\n",
    "Quelles sont les valeurs possibles pour la colonne availability ?"
   ]
  },
  {
   "cell_type": "code",
   "execution_count": null,
   "id": "fbadd4ca",
   "metadata": {},
   "outputs": [
    {
     "name": "stdout",
     "output_type": "stream",
     "text": [
      "0    In stock\n",
      "1    In stock\n",
      "2    In stock\n",
      "3    In stock\n",
      "4    In stock\n",
      "Name: availability, dtype: object\n"
     ]
    }
   ],
   "source": [
    "# Valeurs possibles de la colonne availability (InStock/Out of stock)\n",
    "print(df_books[\"availability\"].head())"
   ]
  },
  {
   "cell_type": "markdown",
   "id": "6c12b18a",
   "metadata": {},
   "source": [
    "Créer une fonction qui prend en entrée la valeur de `availability` et qui renvoie True ou False en fonction de la valeur d'entrée."
   ]
  },
  {
   "cell_type": "code",
   "execution_count": null,
   "id": "679627d6",
   "metadata": {},
   "outputs": [
    {
     "data": {
      "text/plain": [
       "True"
      ]
     },
     "execution_count": 18,
     "metadata": {},
     "output_type": "execute_result"
    }
   ],
   "source": [
    "# Fonction pour convertir la valeur de availability en booléen\n",
    "def convert_availability(value : str) -> bool:\n",
    "    \"\"\"Convert the availability value to a boolean.\n",
    "\n",
    "    Args:\n",
    "        value (str): The availability status of the book.\n",
    "\n",
    "    Returns:\n",
    "        bool: True if the book is available, False otherwise.\n",
    "    \"\"\"\n",
    "    if isinstance(value, bool):\n",
    "        return value\n",
    "    if isinstance(value, str):\n",
    "        return \"In stock\" in value.strip()\n",
    "    return False\n",
    "    return \"In stock\" in value\n",
    "convert_availability(\"In stock\")"
   ]
  },
  {
   "cell_type": "markdown",
   "id": "0dad009f",
   "metadata": {},
   "source": [
    "Utiliser la méthode [`apply`](https://pandas.pydata.org/pandas-docs/stable/reference/api/pandas.DataFrame.apply.html) pour appliquer la fonction à la colonne `availability`."
   ]
  },
  {
   "cell_type": "code",
   "execution_count": null,
   "id": "3de7ec67",
   "metadata": {},
   "outputs": [
    {
     "name": "stdout",
     "output_type": "stream",
     "text": [
      "bool\n"
     ]
    }
   ],
   "source": [
    "# Convertir la colonne availability en booléen (True/False)\n",
    "df_books[\"availability\"] = df_books[\"availability\"].apply(convert_availability)\n",
    "\n",
    "# Vérification du type de la colonne availability\n",
    "print(df_books[\"availability\"].dtype)"
   ]
  },
  {
   "cell_type": "markdown",
   "id": "fd9877d9",
   "metadata": {},
   "source": [
    "Convertir la colonne _rating_ en chiffre en utilisant un dictionnaire `rating_map` et la méthode [_map_](https://pandas.pydata.org/pandas-docs/stable/reference/api/pandas.Series.map.html)."
   ]
  },
  {
   "cell_type": "code",
   "execution_count": null,
   "id": "0d95564c",
   "metadata": {},
   "outputs": [
    {
     "name": "stdout",
     "output_type": "stream",
     "text": [
      "   Unnamed: 0                         title  price  rating  availability\n",
      "0           0            A Light in the ...  51.77       3          True\n",
      "1           1            Tipping the Velvet  53.74       1          True\n",
      "2           2                    Soumission  50.10       1          True\n",
      "3           3                 Sharp Objects  47.82       4          True\n",
      "4           4  Sapiens: A Brief History ...  54.23       5          True\n",
      "Unnamed: 0               int64\n",
      "title           string[python]\n",
      "price                  float64\n",
      "rating                   int64\n",
      "availability              bool\n",
      "dtype: object\n"
     ]
    }
   ],
   "source": [
    "# Dictionnaire associant les notes au format initial et les valeurs numérique\n",
    "ratings_map = ({\n",
    "    \"One\": 1, \n",
    "    \"Two\": 2, \n",
    "    \"Three\": 3, \n",
    "    \"Four\": 4, \n",
    "    \"Five\": 5\n",
    "})\n",
    "\n",
    "df_books[\"rating\"] = df_books[\"rating\"].map(ratings_map)\n",
    "# Vérification du type de la colonne rating\n",
    "print(df_books.head())\n",
    "print(df_books.dtypes)"
   ]
  },
  {
   "cell_type": "code",
   "execution_count": null,
   "id": "69770cdf",
   "metadata": {},
   "outputs": [
    {
     "data": {
      "text/plain": [
       "Unnamed: 0               int64\n",
       "title           string[python]\n",
       "price                  float64\n",
       "rating                   Int64\n",
       "availability              bool\n",
       "dtype: object"
      ]
     },
     "execution_count": 21,
     "metadata": {},
     "output_type": "execute_result"
    }
   ],
   "source": [
    "# # Créer une fonction convert_types qui combine les traitements faits dans les cellules précédentes\n",
    "def convert_types(df_books: pd.DataFrame) -> pd.DataFrame:\n",
    "    \"\"\"Convert the types of the DataFrame columns to appropriate types.\n",
    "\n",
    "    Args:\n",
    "        df_books (pd.DataFrame): The DataFrame containing book data.\n",
    "\n",
    "    Returns:\n",
    "        pd.DataFrame: The DataFrame with converted types.\n",
    "    \"\"\"\n",
    "    df_books[\"title\"] = df_books[\"title\"].astype(\"string\")\n",
    "    df_books[\"rating\"] = df_books[\"rating\"].map({\"One\": 1, \"Two\": 2, \"Three\": 3, \"Four\": 4, \"Five\": 5}).astype(\"Int64\")\n",
    "    df_books[\"price\"] = df_books[\"price\"].astype(str).str.replace(\"£\", \"\").astype(float)\n",
    "    df_books[\"availability\"] = df_books[\"availability\"].apply(convert_availability)\n",
    "\n",
    "    return df_books\n",
    "\n",
    "convert_types(df_books).dtypes"
   ]
  },
  {
   "cell_type": "markdown",
   "id": "b946ba92",
   "metadata": {},
   "source": [
    "---\n",
    "## 2. Insertion des données en base\n",
    "\n",
    "Dans cette section :\n",
    "- on créé une BDD sqlite  `book_store.db` (ou on se connecte à la base si elle existe déjà) en utilisant la bibliothèque python sqlite3,\n",
    "- on insère les données prétraitées dans la BDD\n",
    "\n",
    "Utiliser le [tutoriel](https://www.ionos.fr/digitalguide/sites-internet/developpement-web/sqlite3-avec-python/) pour l'utilisation de sqlite3.\n",
    "\n",
    "Utiliser la fonction pandas adaptée qui permet d'insérer un dataframe dans une BDD."
   ]
  },
  {
   "cell_type": "code",
   "execution_count": null,
   "id": "9188c10c",
   "metadata": {},
   "outputs": [],
   "source": [
    "# Création de la BDD et insertion des données\n",
    "connection = sqlite3.connect(\"book_store.db\")\n",
    "df_books.to_sql('books', connection)"
   ]
  },
  {
   "cell_type": "markdown",
   "id": "3e34bcf5",
   "metadata": {},
   "source": [
    "Vérifier le nombre de livres présents dans la BDD en utilisant sqlite3 et la requête SQL adaptée."
   ]
  },
  {
   "cell_type": "code",
   "execution_count": null,
   "id": "5671f153",
   "metadata": {},
   "outputs": [
    {
     "name": "stdout",
     "output_type": "stream",
     "text": [
      "1000\n"
     ]
    }
   ],
   "source": [
    "# Compter le nombre de livre dans la BDD\n",
    "cursor = connection.cursor()\n",
    "cursor.execute(\"SELECT COUNT(*) FROM books\")\n",
    "rows = cursor.fetchone()[0]\n",
    "print(rows)"
   ]
  }
 ],
 "metadata": {
  "kernelspec": {
   "display_name": ".venv",
   "language": "python",
   "name": "python3"
  },
  "language_info": {
   "codemirror_mode": {
    "name": "ipython",
    "version": 3
   },
   "file_extension": ".py",
   "mimetype": "text/x-python",
   "name": "python",
   "nbconvert_exporter": "python",
   "pygments_lexer": "ipython3",
   "version": "3.12.3"
  }
 },
 "nbformat": 4,
 "nbformat_minor": 5
}
