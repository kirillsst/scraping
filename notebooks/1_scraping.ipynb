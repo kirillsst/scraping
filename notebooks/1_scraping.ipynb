{
 "cells": [
  {
   "cell_type": "markdown",
   "id": "9d3e66b1",
   "metadata": {},
   "source": [
    "# Scraping de données\n",
    "L'objectif de ce notebook est de découvrir la bibliothèque python _BeautifulSoup_ en scrapant les données du site http://books.toscrape.com/.\n",
    "\n",
    "- _BeautifulSoup_ est une bibliothèque Python permettant d’extraire facilement des données de documents HTML ou XML. \n",
    "- Elle est généralement utilisée avec la biliothèque _requests_ pour récupérer le contenu d'une page web, puis pour parcourir ou extraire des éléments HTML (balises, attributs, texte...).\n",
    "\n",
    "Les commentaires de code sont proposés pour l'instant en français mais les noms de variables sont en anglais (vous serez amener dans la suite de la formation à travailler en anglais comme c'est souvent le cas dans le milieu professionnel)."
   ]
  },
  {
   "cell_type": "code",
   "execution_count": 139,
   "id": "978d9037",
   "metadata": {},
   "outputs": [],
   "source": [
    "import requests as r\n",
    "from bs4 import BeautifulSoup\n",
    "import pandas as pd"
   ]
  },
  {
   "cell_type": "markdown",
   "id": "12bf2a1e",
   "metadata": {},
   "source": [
    "## 1. Parsing du HTML avec BeautifulSoup"
   ]
  },
  {
   "cell_type": "code",
   "execution_count": 172,
   "id": "905b3df7",
   "metadata": {},
   "outputs": [
    {
     "name": "stdout",
     "output_type": "stream",
     "text": [
      "Status code:  200\n"
     ]
    }
   ],
   "source": [
    "# On récupère le contenu HTML d’une page\n",
    "url = \"https://books.toscrape.com/\"\n",
    "response = r.get(url)\n",
    "print(f\"Status code: \", response.status_code)\n",
    "\n",
    "# On stocke le contenu HTML dans une variable\n",
    "html_contenu = response.content\n",
    "# print(html_contenu)\n",
    "\n",
    "# On crée un objet BeautifulSoup pour parser le HTML\n",
    "parser = BeautifulSoup(html_contenu, \"html.parser\")\n",
    "# print(parser)Je ne l’ai pas affiché parce qu’il y avait trop de code HTML, et ce n’était pas lisible\n",
    "# Affichage des mille premier caractères du HTML formaté\n",
    "# print(parser.prettify()[:1000]) Je ne l’ai pas affiché parce qu’il y avait trop de code HTML, et ce n’était pas lisible.\n"
   ]
  },
  {
   "cell_type": "markdown",
   "id": "7cde18cb",
   "metadata": {},
   "source": [
    "`soup` est un objet BeautifulSoup qui permet de naviguer dans la structure HTML comme si c’était un arbre.\n",
    "On peut ensuite faire des recherches sur les balises, les classes, les attributs, etc.\n",
    "\n",
    "Sur le site web, ouvrir l'inspecteur pour comprendre ce que retournent les requêtes ci-dessous :"
   ]
  },
  {
   "cell_type": "code",
   "execution_count": 141,
   "id": "3d735482",
   "metadata": {},
   "outputs": [
    {
     "name": "stdout",
     "output_type": "stream",
     "text": [
      "<title>\n",
      "    All products | Books to Scrape - Sandbox\n",
      "</title>\n"
     ]
    }
   ],
   "source": [
    "# Affiche la balise <title>...</title>\n",
    "print(parser.title)"
   ]
  },
  {
   "cell_type": "code",
   "execution_count": 142,
   "id": "28a121ae",
   "metadata": {},
   "outputs": [
    {
     "name": "stdout",
     "output_type": "stream",
     "text": [
      "\n",
      "    All products | Books to Scrape - Sandbox\n",
      "\n"
     ]
    }
   ],
   "source": [
    "# On accède à la balise <title> et on l'affiche\n",
    "print(parser.title.text)"
   ]
  },
  {
   "cell_type": "code",
   "execution_count": 143,
   "id": "0c1091c3",
   "metadata": {},
   "outputs": [
    {
     "name": "stdout",
     "output_type": "stream",
     "text": [
      "<h1>All products</h1>\n"
     ]
    }
   ],
   "source": [
    "# On accède à la balise <h1> et on l'affiche\n",
    "print(parser.find(\"h1\")) "
   ]
  },
  {
   "cell_type": "code",
   "execution_count": 144,
   "id": "19d1b4e3",
   "metadata": {},
   "outputs": [
    {
     "name": "stdout",
     "output_type": "stream",
     "text": [
      "<article class=\"product_pod\">\n",
      "<div class=\"image_container\">\n",
      "<a href=\"catalogue/a-light-in-the-attic_1000/index.html\"><img alt=\"A Light in the Attic\" class=\"thumbnail\" src=\"media/cache/2c/da/2cdad67c44b002e7ead0cc35693c0e8b.jpg\"/></a>\n",
      "</div>\n",
      "<p class=\"star-rating Three\">\n",
      "<i class=\"icon-star\"></i>\n",
      "<i class=\"icon-star\"></i>\n",
      "<i class=\"icon-star\"></i>\n",
      "<i class=\"icon-star\"></i>\n",
      "<i class=\"icon-star\"></i>\n",
      "</p>\n",
      "<h3><a href=\"catalogue/a-light-in-the-attic_1000/index.html\" title=\"A Light in the Attic\">A Light in the ...</a></h3>\n",
      "<div class=\"product_price\">\n",
      "<p class=\"price_color\">£51.77</p>\n",
      "<p class=\"instock availability\">\n",
      "<i class=\"icon-ok\"></i>\n",
      "    \n",
      "        In stock\n",
      "    \n",
      "</p>\n",
      "<form>\n",
      "<button class=\"btn btn-primary btn-block\" data-loading-text=\"Adding...\" type=\"submit\">Add to basket</button>\n",
      "</form>\n",
      "</div>\n",
      "</article>\n"
     ]
    }
   ],
   "source": [
    "# Récupérer tous les titres de livres de la page d’accueil\n",
    "\n",
    "# Chaque livre est dans une balise <article class=\"product_pod\">\n",
    "# On utilise find_all pour trouver toutes les balises correspondantes\n",
    "# On peut ensuite accéder aux informations de chaque livre\n",
    "books = parser.find_all(\"article\", class_=\"product_pod\")\n",
    "\n",
    "# On affiche les informations récoltées sur le premiere livre de la liste\n",
    "first_book = books[0]\n",
    "print(first_book)"
   ]
  },
  {
   "cell_type": "markdown",
   "id": "6f7c6cea",
   "metadata": {},
   "source": [
    "Ouvrir l'inspecteur dans votre navigateur pour chercher **quelle balise HTML** contient le titre des livres.\n",
    "\n",
    "Compléter les cellules de la suite du notebook en suivant les indications en commentaires."
   ]
  },
  {
   "cell_type": "code",
   "execution_count": 145,
   "id": "bcf37c09",
   "metadata": {},
   "outputs": [
    {
     "name": "stdout",
     "output_type": "stream",
     "text": [
      "A Light in the ...\n"
     ]
    }
   ],
   "source": [
    "# On affiche le titre du premier livre\n",
    "title_first_book =  parser.find(\"h3\").text\n",
    "print(title_first_book)"
   ]
  },
  {
   "cell_type": "code",
   "execution_count": 146,
   "id": "343da911",
   "metadata": {},
   "outputs": [
    {
     "name": "stdout",
     "output_type": "stream",
     "text": [
      "A Light in the ...\n",
      "Tipping the Velvet\n",
      "Soumission\n",
      "Sharp Objects\n",
      "Sapiens: A Brief History ...\n",
      "The Requiem Red\n",
      "The Dirty Little Secrets ...\n",
      "The Coming Woman: A ...\n",
      "The Boys in the ...\n",
      "The Black Maria\n",
      "Starving Hearts (Triangular Trade ...\n",
      "Shakespeare's Sonnets\n",
      "Set Me Free\n",
      "Scott Pilgrim's Precious Little ...\n",
      "Rip it Up and ...\n",
      "Our Band Could Be ...\n",
      "Olio\n",
      "Mesaerion: The Best Science ...\n",
      "Libertarianism for Beginners\n",
      "It's Only the Himalayas\n"
     ]
    }
   ],
   "source": [
    "# On parcourt la liste des livres et on affiche le titre de chacun\n",
    "for book in books:\n",
    "    title = book.find(\"h3\").text\n",
    "    print(title)"
   ]
  },
  {
   "cell_type": "markdown",
   "id": "57833cb1",
   "metadata": {},
   "source": [
    "Si l'on souhaite travailler sur cette liste de titres, on pourrait les ajouter à une liste vide à chaque itération de la boucle for ci-dessus.\n",
    "\n",
    "On peut également utiliser la compréhension de liste. C'est une pratique courante en python car plus concise et explicite, en particulier lorsqu'il y a plusieurs boucles _for_ imbriquées qui deviennent difficile à lire.\n",
    "\n",
    "En utilisant la [compréhension de liste](https://www.pythoniste.fr/python/comprendre-les-comprehensions-en-python/), créer une liste contenant les titres des livres récupérés dans la variable books.\n"
   ]
  },
  {
   "cell_type": "code",
   "execution_count": 147,
   "id": "bececb84",
   "metadata": {},
   "outputs": [
    {
     "name": "stdout",
     "output_type": "stream",
     "text": [
      "['A Light in the ...', 'Tipping the Velvet', 'Soumission', 'Sharp Objects', 'Sapiens: A Brief History ...', 'The Requiem Red', 'The Dirty Little Secrets ...', 'The Coming Woman: A ...', 'The Boys in the ...', 'The Black Maria', 'Starving Hearts (Triangular Trade ...', \"Shakespeare's Sonnets\", 'Set Me Free', \"Scott Pilgrim's Precious Little ...\", 'Rip it Up and ...', 'Our Band Could Be ...', 'Olio', 'Mesaerion: The Best Science ...', 'Libertarianism for Beginners', \"It's Only the Himalayas\"]\n"
     ]
    }
   ],
   "source": [
    "# Liste des titres de livres en utilisant la compréhension de liste\n",
    "titles_list = [i.text for i in parser.find_all(\"h3\")]\n",
    "print(titles_list)"
   ]
  },
  {
   "cell_type": "markdown",
   "id": "fe403472",
   "metadata": {},
   "source": [
    "Afficher le nombre de livres trouvés sur la page d'accueil."
   ]
  },
  {
   "cell_type": "code",
   "execution_count": 148,
   "id": "9504fb14",
   "metadata": {},
   "outputs": [
    {
     "name": "stdout",
     "output_type": "stream",
     "text": [
      "Nombre de livres trouvés : 20\n"
     ]
    }
   ],
   "source": [
    "# Nombre de livres trouvés\n",
    "books_nb = len(parser.find_all(\"h3\"))\n",
    "print(f\"Nombre de livres trouvés : {books_nb}\")"
   ]
  },
  {
   "cell_type": "markdown",
   "id": "aa7d3999",
   "metadata": {},
   "source": [
    "Chercher les balises HTML permettant d'afficher les informations suivantes : "
   ]
  },
  {
   "cell_type": "code",
   "execution_count": 149,
   "id": "8a372935",
   "metadata": {},
   "outputs": [
    {
     "name": "stdout",
     "output_type": "stream",
     "text": [
      "Prix du premier livre : £51.77\n"
     ]
    }
   ],
   "source": [
    "# Prix du premier livre\n",
    "price_first_book = first_book.find(\"p\", class_=\"price_color\").text\n",
    "print(f\"Prix du premier livre : {price_first_book}\")"
   ]
  },
  {
   "cell_type": "markdown",
   "id": "4b6c6954",
   "metadata": {},
   "source": [
    "Afficher la note (_rating_) du premier livre."
   ]
  },
  {
   "cell_type": "code",
   "execution_count": 150,
   "id": "9c217cae",
   "metadata": {},
   "outputs": [
    {
     "name": "stdout",
     "output_type": "stream",
     "text": [
      "Note du premier livre : Three\n"
     ]
    }
   ],
   "source": [
    "# Afficher la note (rating) du premier livre\n",
    "rating_first_book = first_book.find(\"p\", class_=\"star-rating\").get('class')[1] # if .get('class')[0] ===== \"star-rating\"\n",
    "print(f\"Note du premier livre : {rating_first_book}\")"
   ]
  },
  {
   "cell_type": "markdown",
   "id": "7240c183",
   "metadata": {},
   "source": [
    "Compléter la cellule suivante en s'inspirant du modèle ci-dessus."
   ]
  },
  {
   "cell_type": "code",
   "execution_count": 151,
   "id": "f97f6c43",
   "metadata": {},
   "outputs": [
    {
     "name": "stdout",
     "output_type": "stream",
     "text": [
      "Titre : A Light in the ...\n",
      "Prix : £51.77\n",
      "Disponibilité : In stock\n",
      "Titre : Tipping the Velvet\n",
      "Prix : £53.74\n",
      "Disponibilité : In stock\n",
      "Titre : Soumission\n",
      "Prix : £50.10\n",
      "Disponibilité : In stock\n",
      "Titre : Sharp Objects\n",
      "Prix : £47.82\n",
      "Disponibilité : In stock\n",
      "Titre : Sapiens: A Brief History ...\n",
      "Prix : £54.23\n",
      "Disponibilité : In stock\n",
      "Titre : The Requiem Red\n",
      "Prix : £22.65\n",
      "Disponibilité : In stock\n",
      "Titre : The Dirty Little Secrets ...\n",
      "Prix : £33.34\n",
      "Disponibilité : In stock\n",
      "Titre : The Coming Woman: A ...\n",
      "Prix : £17.93\n",
      "Disponibilité : In stock\n",
      "Titre : The Boys in the ...\n",
      "Prix : £22.60\n",
      "Disponibilité : In stock\n",
      "Titre : The Black Maria\n",
      "Prix : £52.15\n",
      "Disponibilité : In stock\n",
      "Titre : Starving Hearts (Triangular Trade ...\n",
      "Prix : £13.99\n",
      "Disponibilité : In stock\n",
      "Titre : Shakespeare's Sonnets\n",
      "Prix : £20.66\n",
      "Disponibilité : In stock\n",
      "Titre : Set Me Free\n",
      "Prix : £17.46\n",
      "Disponibilité : In stock\n",
      "Titre : Scott Pilgrim's Precious Little ...\n",
      "Prix : £52.29\n",
      "Disponibilité : In stock\n",
      "Titre : Rip it Up and ...\n",
      "Prix : £35.02\n",
      "Disponibilité : In stock\n",
      "Titre : Our Band Could Be ...\n",
      "Prix : £57.25\n",
      "Disponibilité : In stock\n",
      "Titre : Olio\n",
      "Prix : £23.88\n",
      "Disponibilité : In stock\n",
      "Titre : Mesaerion: The Best Science ...\n",
      "Prix : £37.59\n",
      "Disponibilité : In stock\n",
      "Titre : Libertarianism for Beginners\n",
      "Prix : £51.33\n",
      "Disponibilité : In stock\n",
      "Titre : It's Only the Himalayas\n",
      "Prix : £45.17\n",
      "Disponibilité : In stock\n"
     ]
    }
   ],
   "source": [
    "# Pour chaque livre, on souhaite afficher : le prix, le titre et la disponibilité\n",
    "for book in books:\n",
    "    title = book.find(\"h3\").text\n",
    "    price = book.find(\"p\", class_=\"price_color\").text\n",
    "    availability = book.find(\"p\", class_=\"instock availability\").text.strip()\n",
    "    print(f\"Titre : {title}\\nPrix : {price}\\nDisponibilité : {availability}\")"
   ]
  },
  {
   "cell_type": "markdown",
   "id": "f18b886c",
   "metadata": {},
   "source": [
    "---\n",
    "## 2. Fonctions python d'extraction des données\n",
    "\n",
    "**Généralités**\n",
    "\n",
    "Une fonction est une portion de code effectuant une suite d'instructions. \n",
    "\n",
    "Chaque fonction effectue en général une tâche unique et précise. Si cela se complique, il est plus judicieux d'écrire plusieurs fonctions (qui peuvent éventuellement s'appeler les unes les autres).\n",
    "\n",
    "`def` permet de definir la fonction.\n",
    "Si on souhaite que la fonction renvoie quelque chose, il faut utiliser le mot-clé `return`.\n",
    "On utilise des docstrings (=documentation) sous le format \"\"\" Explications de la fonction \"\"\" qui fournit des informations sur ce que fait la fonction, quelles sont les paramètres d'entrée (Args) et que renvoie la fonction (Returns).\n",
    "\n",
    "--> [Ressources fonctions python](https://python.sdv.u-paris.fr/10_fonctions/)\n",
    "\n",
    "---\n",
    "\n",
    "En suivant les documentations de fonction et en utilisant le travail de la partie précédente, implémenter les fonctions permettant d'extraire les informations des livres.\n",
    "\n",
    "\n",
    "\n",
    "**Note**\n",
    "\n",
    "Un Ctrl+clic sur le nom de n'importe quelle fonction vous emmène à la définition de cette fonction.\n"
   ]
  },
  {
   "cell_type": "code",
   "execution_count": 152,
   "id": "03144818",
   "metadata": {},
   "outputs": [
    {
     "data": {
      "text/plain": [
       "\"It's Only the Himalayas\""
      ]
     },
     "execution_count": 152,
     "metadata": {},
     "output_type": "execute_result"
    }
   ],
   "source": [
    "# Fonction pour extraire le titre d'un livre\n",
    "def extract_title(book: BeautifulSoup) -> str:\n",
    "    \"\"\"Extract the title of a book from a BeautifulSoup object.\n",
    "    Args:\n",
    "        book (BeautifulSoup): The HTML element of the book.\n",
    "\n",
    "    Returns:\n",
    "        str: The title of the book.\n",
    "    \"\"\"\n",
    "    return book.find(\"h3\").text\n",
    "extract_title(book)"
   ]
  },
  {
   "cell_type": "code",
   "execution_count": 153,
   "id": "ade70bc7",
   "metadata": {},
   "outputs": [
    {
     "data": {
      "text/plain": [
       "'£45.17'"
      ]
     },
     "execution_count": 153,
     "metadata": {},
     "output_type": "execute_result"
    }
   ],
   "source": [
    "# Fonction pour extraire le prix d'un livre\n",
    "def extract_price(book: BeautifulSoup) -> str:\n",
    "    \"\"\"Extract the price of a book from a BeautifulSoup object.\n",
    "\n",
    "    Args:\n",
    "        book (BeautifulSoup): The HTML element of the book.\n",
    "\n",
    "    Returns:\n",
    "        str: The price of the book.\n",
    "    \"\"\"\n",
    "    return book.find(\"p\", class_=\"price_color\").text\n",
    "extract_price(book)\n"
   ]
  },
  {
   "cell_type": "code",
   "execution_count": 154,
   "id": "6e1fb522",
   "metadata": {},
   "outputs": [
    {
     "data": {
      "text/plain": [
       "'Two'"
      ]
     },
     "execution_count": 154,
     "metadata": {},
     "output_type": "execute_result"
    }
   ],
   "source": [
    "# Fonction pour extraire la note d'un livre\n",
    "def extract_rating(book: BeautifulSoup) -> str:\n",
    "    \"\"\"Extract the rating of a book from a BeautifulSoup object.\n",
    "\n",
    "    Args:\n",
    "        book (BeautifulSoup): The HTML element of the book.\n",
    "\n",
    "    Returns:\n",
    "        str: The rating of the book.\n",
    "    \"\"\"\n",
    "    return book.find(\"p\", class_=\"star-rating\").get('class')[1]\n",
    "extract_rating(book)"
   ]
  },
  {
   "cell_type": "code",
   "execution_count": 155,
   "id": "a2561562",
   "metadata": {},
   "outputs": [
    {
     "data": {
      "text/plain": [
       "'In stock'"
      ]
     },
     "execution_count": 155,
     "metadata": {},
     "output_type": "execute_result"
    }
   ],
   "source": [
    "# Fonction pour extraire la disponibilité d'un livre\n",
    "def extract_availability(book: BeautifulSoup) -> str:\n",
    "    \"\"\"Extract the availability of a book from a BeautifulSoup object.\n",
    "\n",
    "    Args:\n",
    "        book (BeautifulSoup): The HTML element of the book.\n",
    "\n",
    "    Returns:\n",
    "        str: The availability of the book.\n",
    "    \"\"\"\n",
    "    return book.find(\"p\", class_=\"instock availability\").text.strip()\n",
    "extract_availability(book)"
   ]
  },
  {
   "cell_type": "markdown",
   "id": "465ca098",
   "metadata": {},
   "source": [
    "Créer une fonction qui combine les informations d'un livre dans un dictionnaire sous la forme :\n",
    " \n",
    " {\n",
    "    \"title\": \"Titre du livre\",\n",
    "     \"price\": \"Prix du livre\",\n",
    "     \"rating\": \"Note du livre\",\n",
    "     \"availability\": \"Disponibilité du livre\"\n",
    " }"
   ]
  },
  {
   "cell_type": "code",
   "execution_count": 156,
   "id": "4a52ab5f",
   "metadata": {},
   "outputs": [
    {
     "data": {
      "text/plain": [
       "{'title': \"It's Only the Himalayas\",\n",
       " 'price': '£45.17',\n",
       " 'rating': 'Two',\n",
       " 'availability': 'In stock'}"
      ]
     },
     "execution_count": 156,
     "metadata": {},
     "output_type": "execute_result"
    }
   ],
   "source": [
    "# Fonction qui combine les informations d'un livre dans un dictionnaire\n",
    "def extract_book_info(book: BeautifulSoup) -> dict:\n",
    "    \"\"\"Extract all information of a book from a BeautifulSoup object.\n",
    "\n",
    "    Args:\n",
    "        book (BeautifulSoup): The HTML element of the book.\n",
    "\n",
    "    Returns:\n",
    "        dict: A dictionary containing the title, price, rating, and availability of the book.\n",
    "    \"\"\"\n",
    "    \n",
    "    table_dict = {\n",
    "        'title': extract_title(book),\n",
    "        'price': extract_price(book),\n",
    "        'rating': extract_rating(book),\n",
    "        'availability': extract_availability(book)\n",
    "    }\n",
    "    return table_dict\n",
    "\n",
    "extract_book_info(book)"
   ]
  },
  {
   "cell_type": "markdown",
   "id": "2ff1821c",
   "metadata": {},
   "source": [
    "\n",
    "En utilisant :\n",
    "- la fonction `extract_book_info` implémentée ci-dessus,\n",
    "- la [compréhension de liste](https://www.pythoniste.fr/python/comprendre-les-comprehensions-en-python/)\n",
    "\n",
    "créer une liste `data_books` qui contient des dictionnaires décrivant les informations disponibles pour chaque livres, sous la forme :\n",
    "\n",
    "```\n",
    "[\n",
    "    {\"title\": \"A Light in the ...\", \"price\": \"£51.77\", \"availability\": \"In stock\"},\n",
    "    {\"title\": \"Tipping the Velvet\", \"price\": \"£53.74\", \"availability\": \"In stock\"},\n",
    "    ...\n",
    "]\n",
    "```"
   ]
  },
  {
   "cell_type": "code",
   "execution_count": 157,
   "id": "27ef3a24",
   "metadata": {},
   "outputs": [
    {
     "name": "stdout",
     "output_type": "stream",
     "text": [
      "[{'title': 'A Light in the ...', 'price': '£51.77', 'rating': 'Three', 'availability': 'In stock'}, {'title': 'Tipping the Velvet', 'price': '£53.74', 'rating': 'One', 'availability': 'In stock'}, {'title': 'Soumission', 'price': '£50.10', 'rating': 'One', 'availability': 'In stock'}, {'title': 'Sharp Objects', 'price': '£47.82', 'rating': 'Four', 'availability': 'In stock'}, {'title': 'Sapiens: A Brief History ...', 'price': '£54.23', 'rating': 'Five', 'availability': 'In stock'}]\n"
     ]
    }
   ],
   "source": [
    "# Création d'une liste de dictionnaires contenant les informations de chaque livre\n",
    "data_books = [extract_book_info(book) for book in books]\n",
    "\n",
    "# Affichage des 5 premiers livres\n",
    "print(data_books[:5]) "
   ]
  },
  {
   "cell_type": "markdown",
   "id": "797666f5",
   "metadata": {},
   "source": [
    "On aurait pu créer la liste de dictionnaires en utilisant une boucle for et en ne passant pas par l'utilisation de fonctions.\n",
    "\n",
    "--> **Il y a toujours de nombreuses manières de coder une solution pour arriver à un même résultat.** \n"
   ]
  },
  {
   "cell_type": "markdown",
   "id": "a2842fdb",
   "metadata": {},
   "source": [
    "Pourquoi on propose ici de segmenter le code dans de très courtes fonctions python ?\n",
    "\n",
    "- Ici le cas d'application est simple donc les fonctions sont très courtes, la méthode utilisée ici s'adapte bien à des structure de données sont plus complexes.\n",
    "\n",
    "- Le code est plus évolutif et maintenable : \n",
    "\n",
    "Chaque structure de données peut évoluer séparément dans le HTML. Si une structure évolue il est simple de mettre à jour une fonction qui extrait cette donnnées plutôt que de devoir chercher dans le code chaque endroit où cette donnée est extraite.\n",
    "\n",
    "\n",
    "- Chaque fonction peut être testée individuellement.\n",
    "- Le code est plus compréhensible pour le lecteur."
   ]
  },
  {
   "cell_type": "markdown",
   "id": "2e93a726",
   "metadata": {},
   "source": [
    "Utiliser pandas pour afficher _data_books_ dans un dataframe."
   ]
  },
  {
   "cell_type": "code",
   "execution_count": 158,
   "id": "5ae930a2",
   "metadata": {},
   "outputs": [
    {
     "name": "stdout",
     "output_type": "stream",
     "text": [
      "                          title   price rating availability\n",
      "0            A Light in the ...  £51.77  Three     In stock\n",
      "1            Tipping the Velvet  £53.74    One     In stock\n",
      "2                    Soumission  £50.10    One     In stock\n",
      "3                 Sharp Objects  £47.82   Four     In stock\n",
      "4  Sapiens: A Brief History ...  £54.23   Five     In stock\n"
     ]
    }
   ],
   "source": [
    "# Création d'un DataFrame à partir de la liste\n",
    "df_books = pd.DataFrame(data_books)\n",
    "\n",
    "# Afficher le début du DataFrame\n",
    "print(df_books.head())"
   ]
  },
  {
   "cell_type": "markdown",
   "id": "71f06599",
   "metadata": {},
   "source": [
    "---\n",
    "## 3. Itération sur plusieurs pages HTML"
   ]
  },
  {
   "cell_type": "markdown",
   "id": "a6c73b2c",
   "metadata": {},
   "source": [
    "Dans la partie précédente, on a scrapé uniquement la page d'accueil.\n",
    "\n",
    "A présent, on souhaite récupérer les données de 50 pages du catalogue.\n",
    "\n",
    "- Implémenter une fonction qui récupère le contenu HTML d'une page à partir de son url (cf partie 1.)\n",
    "- Implémenter une fonction qui crée une liste dictionnaire avec les informations de chaque livres de la page (utiliser la fonction `extract_book_info`)."
   ]
  },
  {
   "cell_type": "code",
   "execution_count": 168,
   "id": "ba4ed1d6",
   "metadata": {},
   "outputs": [],
   "source": [
    "def get_books_html(url: str) -> BeautifulSoup:\n",
    "    \"\"\"Fetch the HTML content of a book page.\n",
    "\n",
    "    Args:\n",
    "        url (str): The URL of the book page.\n",
    "\n",
    "    Returns:\n",
    "        BeautifulSoup: A BeautifulSoup object containing the HTML content.\n",
    "    \"\"\"\n",
    "    response = r.get(url)\n",
    "    print(f\"Status code: \", response.status_code)\n",
    "    html_content = response.content\n",
    "    sp = BeautifulSoup(html_content, \"html.parser\")\n",
    "    # return sp\n",
    "    books = sp.find_all(\"article\", class_=\"product_pod\")\n",
    "\n",
    "    list_dict = [extract_book_info(book) for book in books]\n",
    "    print(list_dict[:5])"
   ]
  },
  {
   "cell_type": "code",
   "execution_count": 169,
   "id": "61dad9a9",
   "metadata": {},
   "outputs": [
    {
     "name": "stdout",
     "output_type": "stream",
     "text": [
      "Status code:  200\n",
      "[{'title': 'In Her Wake', 'price': '£12.84', 'rating': 'One', 'availability': 'In stock'}, {'title': 'How Music Works', 'price': '£37.32', 'rating': 'Two', 'availability': 'In stock'}, {'title': 'Foolproof Preserving: A Guide ...', 'price': '£30.52', 'rating': 'Three', 'availability': 'In stock'}, {'title': 'Chase Me (Paris Nights ...', 'price': '£25.27', 'rating': 'Five', 'availability': 'In stock'}, {'title': 'Black Dust', 'price': '£34.53', 'rating': 'Five', 'availability': 'In stock'}]\n"
     ]
    }
   ],
   "source": [
    "# Test de la fonction get_book_html avec la page 2\n",
    "get_books_html(\"http://books.toscrape.com/catalogue/page-2.html\")"
   ]
  },
  {
   "cell_type": "markdown",
   "id": "933ef81f",
   "metadata": {},
   "source": [
    "Naviguer sur le site pour comprendre quel est le format des URL des différentes pages du catalogue.\n"
   ]
  },
  {
   "cell_type": "markdown",
   "id": "0ab19c24",
   "metadata": {},
   "source": [
    "- Créer une variable _base_url_ dans laquelle vous viendrez par la suite mettre à jour la partie qui varie.\n",
    "- Pour chaque page :\n",
    "    - Construire l’URL adapté, \n",
    "    - Utiliser la fonction `get_books_html` pour récupérer les livres de la page,\n",
    "    - Utiliser la compréhension de liste (cf ci-dessus pour créer `data_books`) et la fonction `extract_book_info` pour obtenir une liste de dictionnaire des titres, prix, note et disponibilité des livres contenus dans la page,\n",
    "- Créer une liste qui contiendra tous les dictionnaires scrapés."
   ]
  },
  {
   "cell_type": "code",
   "execution_count": 161,
   "id": "a0d53140",
   "metadata": {},
   "outputs": [],
   "source": [
    "# Parcourir les pages et récupérer les livres\n",
    "def scrape_books(pages: int) -> list[dict]:\n",
    "    \"\"\"Scrape books from the specified number of pages.\n",
    "\n",
    "    Args:\n",
    "        pages (int): The number of pages to scrape.\n",
    "\n",
    "    Returns:\n",
    "        list: A list of dictionaries containing books information.\n",
    "    \"\"\"\n"
   ]
  },
  {
   "cell_type": "code",
   "execution_count": 162,
   "id": "37d86eb6",
   "metadata": {},
   "outputs": [
    {
     "ename": "TypeError",
     "evalue": "'NoneType' object is not subscriptable",
     "output_type": "error",
     "traceback": [
      "\u001b[31m---------------------------------------------------------------------------\u001b[39m",
      "\u001b[31mTypeError\u001b[39m                                 Traceback (most recent call last)",
      "\u001b[36mCell\u001b[39m\u001b[36m \u001b[39m\u001b[32mIn[162]\u001b[39m\u001b[32m, line 3\u001b[39m\n\u001b[32m      1\u001b[39m \u001b[38;5;66;03m# Test de la fonction scrape_books avec 50 pages\u001b[39;00m\n\u001b[32m      2\u001b[39m data_books = scrape_books(\u001b[32m50\u001b[39m)\n\u001b[32m----> \u001b[39m\u001b[32m3\u001b[39m \u001b[38;5;28mprint\u001b[39m(\u001b[43mscrape_books\u001b[49m\u001b[43m(\u001b[49m\u001b[32;43m50\u001b[39;49m\u001b[43m)\u001b[49m\u001b[43m[\u001b[49m\u001b[43m:\u001b[49m\u001b[32;43m5\u001b[39;49m\u001b[43m]\u001b[49m) \n",
      "\u001b[31mTypeError\u001b[39m: 'NoneType' object is not subscriptable"
     ]
    }
   ],
   "source": [
    "# Test de la fonction scrape_books avec 50 pages\n",
    "data_books = scrape_books(50)\n",
    "print(scrape_books(50)[:5]) "
   ]
  },
  {
   "cell_type": "markdown",
   "id": "8f43b2f0",
   "metadata": {},
   "source": [
    "Créer un DataFrame avec les données scrapées,"
   ]
  },
  {
   "cell_type": "code",
   "execution_count": null,
   "id": "d3b9566c",
   "metadata": {},
   "outputs": [],
   "source": [
    "# Création d'un DataFrame à partir de la liste\n",
    "df_books = "
   ]
  },
  {
   "cell_type": "code",
   "execution_count": null,
   "id": "3ee951f4",
   "metadata": {},
   "outputs": [],
   "source": [
    "# Nombre de livres scrapés\n",
    "books_nb = \n",
    "print(f\"Nombre de livres scrapés : {books_nb}\")"
   ]
  },
  {
   "cell_type": "markdown",
   "id": "64e6a246",
   "metadata": {},
   "source": [
    "Chercher dans la doc [pandas](https://pandas.pydata.org/docs/) la fonction permettant de sauvegarder les données dans un fichier CSV.\n",
    "\n",
    "Sauvegarder les données dans un fichier _books_infos.csv_\n"
   ]
  },
  {
   "cell_type": "code",
   "execution_count": null,
   "id": "37c15c3c",
   "metadata": {},
   "outputs": [],
   "source": [
    "# Sauvegarder les données dans un fichier csv\n"
   ]
  }
 ],
 "metadata": {
  "kernelspec": {
   "display_name": ".venv",
   "language": "python",
   "name": "python3"
  },
  "language_info": {
   "codemirror_mode": {
    "name": "ipython",
    "version": 3
   },
   "file_extension": ".py",
   "mimetype": "text/x-python",
   "name": "python",
   "nbconvert_exporter": "python",
   "pygments_lexer": "ipython3",
   "version": "3.12.3"
  }
 },
 "nbformat": 4,
 "nbformat_minor": 5
}
