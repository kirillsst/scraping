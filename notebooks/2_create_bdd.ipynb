{
 "cells": [
  {
   "cell_type": "markdown",
   "id": "5c38e090",
   "metadata": {},
   "source": [
    "# Traitement et stockage des données issues du scraping\n",
    "\n",
    "Vous avez scrapé les données du site de livres et les avez stockées dans un fichier. \n",
    "\n",
    "L'objectif de ce notebook est de créer une base de données pour y stocker ces données."
   ]
  },
  {
   "cell_type": "code",
   "execution_count": 365,
   "id": "fc007873",
   "metadata": {},
   "outputs": [],
   "source": [
    "import sqlite3\n",
    "import pandas as pd"
   ]
  },
  {
   "cell_type": "markdown",
   "id": "dd34cc58",
   "metadata": {},
   "source": [
    "Lire les données du fichier sauvegardé en utilisant pandas."
   ]
  },
  {
   "cell_type": "code",
   "execution_count": 366,
   "id": "8aa4b567",
   "metadata": {},
   "outputs": [
    {
     "data": {
      "text/html": [
       "<div>\n",
       "<style scoped>\n",
       "    .dataframe tbody tr th:only-of-type {\n",
       "        vertical-align: middle;\n",
       "    }\n",
       "\n",
       "    .dataframe tbody tr th {\n",
       "        vertical-align: top;\n",
       "    }\n",
       "\n",
       "    .dataframe thead th {\n",
       "        text-align: right;\n",
       "    }\n",
       "</style>\n",
       "<table border=\"1\" class=\"dataframe\">\n",
       "  <thead>\n",
       "    <tr style=\"text-align: right;\">\n",
       "      <th></th>\n",
       "      <th>Unnamed: 0</th>\n",
       "      <th>title</th>\n",
       "      <th>price</th>\n",
       "      <th>rating</th>\n",
       "      <th>availability</th>\n",
       "    </tr>\n",
       "  </thead>\n",
       "  <tbody>\n",
       "    <tr>\n",
       "      <th>0</th>\n",
       "      <td>0</td>\n",
       "      <td>A Light in the ...</td>\n",
       "      <td>£51.77</td>\n",
       "      <td>Three</td>\n",
       "      <td>In stock</td>\n",
       "    </tr>\n",
       "    <tr>\n",
       "      <th>1</th>\n",
       "      <td>1</td>\n",
       "      <td>Tipping the Velvet</td>\n",
       "      <td>£53.74</td>\n",
       "      <td>One</td>\n",
       "      <td>In stock</td>\n",
       "    </tr>\n",
       "    <tr>\n",
       "      <th>2</th>\n",
       "      <td>2</td>\n",
       "      <td>Soumission</td>\n",
       "      <td>£50.10</td>\n",
       "      <td>One</td>\n",
       "      <td>In stock</td>\n",
       "    </tr>\n",
       "    <tr>\n",
       "      <th>3</th>\n",
       "      <td>3</td>\n",
       "      <td>Sharp Objects</td>\n",
       "      <td>£47.82</td>\n",
       "      <td>Four</td>\n",
       "      <td>In stock</td>\n",
       "    </tr>\n",
       "    <tr>\n",
       "      <th>4</th>\n",
       "      <td>4</td>\n",
       "      <td>Sapiens: A Brief History ...</td>\n",
       "      <td>£54.23</td>\n",
       "      <td>Five</td>\n",
       "      <td>In stock</td>\n",
       "    </tr>\n",
       "  </tbody>\n",
       "</table>\n",
       "</div>"
      ],
      "text/plain": [
       "   Unnamed: 0                         title   price rating availability\n",
       "0           0            A Light in the ...  £51.77  Three     In stock\n",
       "1           1            Tipping the Velvet  £53.74    One     In stock\n",
       "2           2                    Soumission  £50.10    One     In stock\n",
       "3           3                 Sharp Objects  £47.82   Four     In stock\n",
       "4           4  Sapiens: A Brief History ...  £54.23   Five     In stock"
      ]
     },
     "execution_count": 366,
     "metadata": {},
     "output_type": "execute_result"
    }
   ],
   "source": [
    "# Lire les données du fichier que vous venez d'enregistrer\n",
    "df_books = pd.read_csv(\"~/scraping_repo/scraping/notebooks/books_infos.csv\")\n",
    "df_books.head()"
   ]
  },
  {
   "cell_type": "markdown",
   "id": "56d48fb1",
   "metadata": {},
   "source": [
    "## 1. Prétraitement des données\n",
    "\n",
    "On souhaite créer la table _book_ contenant les attributs suivants : \n",
    "- id : INT, PK,\n",
    "- title : TEXT,\n",
    "- price : DECIMAL\n",
    "- availability : BOOLEAN\n",
    "- rating : INT [0:5]\n",
    "\n",
    "Vérifier les types des colonnes du dataframe."
   ]
  },
  {
   "cell_type": "code",
   "execution_count": 367,
   "id": "0505d094",
   "metadata": {},
   "outputs": [
    {
     "data": {
      "text/plain": [
       "Unnamed: 0       int64\n",
       "title           object\n",
       "price           object\n",
       "rating          object\n",
       "availability    object\n",
       "dtype: object"
      ]
     },
     "execution_count": 367,
     "metadata": {},
     "output_type": "execute_result"
    }
   ],
   "source": [
    "# Vérification des types de données\n",
    "df_books.dtypes\n"
   ]
  },
  {
   "cell_type": "markdown",
   "id": "1be2df09",
   "metadata": {},
   "source": [
    "Dans les cellules qui suivent, des méthodes de traitement de données sont suggérées pour donner un aperçu de ce qu'il est possible de faire avec pandas.\n",
    "\n",
    "**Il est tout à fait possible de faire autrement.**\n",
    "\n",
    "Utiliser la méthode pandas [_astype_](https://pandas.pydata.org/pandas-docs/stable/reference/api/pandas.DataFrame.astype.html) pour convertir la colonne de titre en chaîne de caractère."
   ]
  },
  {
   "cell_type": "code",
   "execution_count": 368,
   "id": "10f0638f",
   "metadata": {},
   "outputs": [
    {
     "name": "stdout",
     "output_type": "stream",
     "text": [
      "string\n"
     ]
    },
    {
     "data": {
      "text/plain": [
       "Unnamed: 0               int64\n",
       "title           string[python]\n",
       "price                   object\n",
       "rating                  object\n",
       "availability            object\n",
       "dtype: object"
      ]
     },
     "execution_count": 368,
     "metadata": {},
     "output_type": "execute_result"
    }
   ],
   "source": [
    "# Conversion de title en chaîne de caractères\n",
    "df_books[\"title\"] = df_books[\"title\"].astype(\"string\")\n",
    "\n",
    "# Vérification du type de la colonne title\n",
    "print(df_books[\"title\"].dtype)\n",
    "\n",
    "df_books.dtypes"
   ]
  },
  {
   "cell_type": "markdown",
   "id": "e4e6b924",
   "metadata": {},
   "source": [
    "Pour convertir la colonne de prix en nombre décimal, il est nécessaire d'utiliser une étape intermédiaire pour retirer le caractère \"£\".\n",
    "\n",
    "Il est possible par exemple d'utiliser l'attribut [.str](https://pandas.pydata.org/pandas-docs/stable/reference/api/pandas.Series.str.html) de la série \"price\"."
   ]
  },
  {
   "cell_type": "code",
   "execution_count": 369,
   "id": "5e6bd8ce",
   "metadata": {},
   "outputs": [
    {
     "name": "stdout",
     "output_type": "stream",
     "text": [
      "0    51.77\n",
      "1    53.74\n",
      "2    50.10\n",
      "3    47.82\n",
      "4    54.23\n",
      "Name: price, dtype: float64\n"
     ]
    }
   ],
   "source": [
    "# Convertir la colonne price en type décimal\n",
    "df_books[\"price\"] = df_books[\"price\"].str.replace(\"£\", \" \").astype(float)\n",
    "\n",
    "# Vérification du type de la colonne price\n",
    "print(df_books[\"price\"].head())"
   ]
  },
  {
   "cell_type": "markdown",
   "id": "a537478f",
   "metadata": {},
   "source": [
    "Convertir la colonne `availability` en boolen (True/False).\n",
    "\n",
    "Quelles sont les valeurs possibles pour la colonne availability ?"
   ]
  },
  {
   "cell_type": "code",
   "execution_count": 370,
   "id": "fbadd4ca",
   "metadata": {},
   "outputs": [
    {
     "name": "stdout",
     "output_type": "stream",
     "text": [
      "0    In stock\n",
      "1    In stock\n",
      "2    In stock\n",
      "3    In stock\n",
      "4    In stock\n",
      "Name: availability, dtype: object\n"
     ]
    }
   ],
   "source": [
    "# Valeurs possibles de la colonne availability (InStock/Out of stock)\n",
    "print(df_books[\"availability\"].head())"
   ]
  },
  {
   "cell_type": "markdown",
   "id": "6c12b18a",
   "metadata": {},
   "source": [
    "Créer une fonction qui prend en entrée la valeur de `availability` et qui renvoie True ou False en fonction de la valeur d'entrée."
   ]
  },
  {
   "cell_type": "code",
   "execution_count": 371,
   "id": "679627d6",
   "metadata": {},
   "outputs": [
    {
     "data": {
      "text/plain": [
       "True"
      ]
     },
     "execution_count": 371,
     "metadata": {},
     "output_type": "execute_result"
    }
   ],
   "source": [
    "# Fonction pour convertir la valeur de availability en booléen\n",
    "def convert_availability(value : str) -> bool:\n",
    "    \"\"\"Convert the availability value to a boolean.\n",
    "\n",
    "    Args:\n",
    "        value (str): The availability status of the book.\n",
    "\n",
    "    Returns:\n",
    "        bool: True if the book is available, False otherwise.\n",
    "    \"\"\"\n",
    "    if isinstance(value, bool):\n",
    "        return value\n",
    "    if isinstance(value, str):\n",
    "        return \"In stock\" in value.strip()\n",
    "    return False\n",
    "    return \"In stock\" in value\n",
    "convert_availability(\"In stock\")"
   ]
  },
  {
   "cell_type": "markdown",
   "id": "0dad009f",
   "metadata": {},
   "source": [
    "Utiliser la méthode [`apply`](https://pandas.pydata.org/pandas-docs/stable/reference/api/pandas.DataFrame.apply.html) pour appliquer la fonction à la colonne `availability`."
   ]
  },
  {
   "cell_type": "code",
   "execution_count": 372,
   "id": "3de7ec67",
   "metadata": {},
   "outputs": [
    {
     "name": "stdout",
     "output_type": "stream",
     "text": [
      "bool\n"
     ]
    }
   ],
   "source": [
    "# Convertir la colonne availability en booléen (True/False)\n",
    "df_books[\"availability\"] = df_books[\"availability\"].apply(convert_availability)\n",
    "\n",
    "# Vérification du type de la colonne availability\n",
    "print(df_books[\"availability\"].dtype)"
   ]
  },
  {
   "cell_type": "markdown",
   "id": "fd9877d9",
   "metadata": {},
   "source": [
    "Convertir la colonne _rating_ en chiffre en utilisant un dictionnaire `rating_map` et la méthode [_map_](https://pandas.pydata.org/pandas-docs/stable/reference/api/pandas.Series.map.html)."
   ]
  },
  {
   "cell_type": "code",
   "execution_count": 373,
   "id": "0d95564c",
   "metadata": {},
   "outputs": [
    {
     "name": "stdout",
     "output_type": "stream",
     "text": [
      "   Unnamed: 0                         title  price  rating  availability\n",
      "0           0            A Light in the ...  51.77       3          True\n",
      "1           1            Tipping the Velvet  53.74       1          True\n",
      "2           2                    Soumission  50.10       1          True\n",
      "3           3                 Sharp Objects  47.82       4          True\n",
      "4           4  Sapiens: A Brief History ...  54.23       5          True\n",
      "Unnamed: 0               int64\n",
      "title           string[python]\n",
      "price                  float64\n",
      "rating                   int64\n",
      "availability              bool\n",
      "dtype: object\n"
     ]
    }
   ],
   "source": [
    "# Dictionnaire associant les notes au format initial et les valeurs numérique\n",
    "ratings_map = ({\n",
    "    \"One\": 1, \n",
    "    \"Two\": 2, \n",
    "    \"Three\": 3, \n",
    "    \"Four\": 4, \n",
    "    \"Five\": 5\n",
    "})\n",
    "\n",
    "df_books[\"rating\"] = df_books[\"rating\"].map(ratings_map)\n",
    "# Vérification du type de la colonne rating\n",
    "print(df_books.head())\n",
    "print(df_books.dtypes)"
   ]
  },
  {
   "cell_type": "code",
   "execution_count": 374,
   "id": "69770cdf",
   "metadata": {},
   "outputs": [
    {
     "data": {
      "text/plain": [
       "Unnamed: 0               int64\n",
       "title           string[python]\n",
       "price                  float64\n",
       "rating                   Int64\n",
       "availability              bool\n",
       "dtype: object"
      ]
     },
     "execution_count": 374,
     "metadata": {},
     "output_type": "execute_result"
    }
   ],
   "source": [
    "# # Créer une fonction convert_types qui combine les traitements faits dans les cellules précédentes\n",
    "def convert_types(df_books: pd.DataFrame) -> pd.DataFrame:\n",
    "    \"\"\"Convert the types of the DataFrame columns to appropriate types.\n",
    "\n",
    "    Args:\n",
    "        df_books (pd.DataFrame): The DataFrame containing book data.\n",
    "\n",
    "    Returns:\n",
    "        pd.DataFrame: The DataFrame with converted types.\n",
    "    \"\"\"\n",
    "    df_books[\"title\"] = df_books[\"title\"].astype(\"string\")\n",
    "    df_books[\"rating\"] = df_books[\"rating\"].map({\"One\": 1, \"Two\": 2, \"Three\": 3, \"Four\": 4, \"Five\": 5}).astype(\"Int64\")\n",
    "    df_books[\"price\"] = df_books[\"price\"].astype(str).str.replace(\"£\", \"\").astype(float)\n",
    "    df_books[\"availability\"] = df_books[\"availability\"].apply(convert_availability)\n",
    "\n",
    "    return df_books\n",
    "\n",
    "convert_types(df_books).dtypes"
   ]
  },
  {
   "cell_type": "markdown",
   "id": "b946ba92",
   "metadata": {},
   "source": [
    "---\n",
    "## 2. Insertion des données en base\n",
    "\n",
    "Dans cette section :\n",
    "- on créé une BDD sqlite  `book_store.db` (ou on se connecte à la base si elle existe déjà) en utilisant la bibliothèque python sqlite3,\n",
    "- on insère les données prétraitées dans la BDD\n",
    "\n",
    "Utiliser le [tutoriel](https://www.ionos.fr/digitalguide/sites-internet/developpement-web/sqlite3-avec-python/) pour l'utilisation de sqlite3.\n",
    "\n",
    "Utiliser la fonction pandas adaptée qui permet d'insérer un dataframe dans une BDD."
   ]
  },
  {
   "cell_type": "code",
   "execution_count": 375,
   "id": "9188c10c",
   "metadata": {},
   "outputs": [
    {
     "data": {
      "text/plain": [
       "1000"
      ]
     },
     "execution_count": 375,
     "metadata": {},
     "output_type": "execute_result"
    }
   ],
   "source": [
    "# Création de la BDD et insertion des données\n",
    "connection = sqlite3.connect(\"book_store.db\")\n",
    "df_books.to_sql('books', connection)"
   ]
  },
  {
   "cell_type": "markdown",
   "id": "3e34bcf5",
   "metadata": {},
   "source": [
    "Vérifier le nombre de livres présents dans la BDD en utilisant sqlite3 et la requête SQL adaptée."
   ]
  },
  {
   "cell_type": "code",
   "execution_count": 376,
   "id": "5671f153",
   "metadata": {},
   "outputs": [
    {
     "name": "stdout",
     "output_type": "stream",
     "text": [
      "[(1000,)]\n"
     ]
    }
   ],
   "source": [
    "# Compter le nombre de livre dans la BDD\n",
    "cursor = connection.cursor()\n",
    "cursor.execute(\"SELECT COUNT(*) FROM books\")\n",
    "rows = cursor.fetchall()\n",
    "print(rows)"
   ]
  }
 ],
 "metadata": {
  "kernelspec": {
   "display_name": ".venv",
   "language": "python",
   "name": "python3"
  },
  "language_info": {
   "codemirror_mode": {
    "name": "ipython",
    "version": 3
   },
   "file_extension": ".py",
   "mimetype": "text/x-python",
   "name": "python",
   "nbconvert_exporter": "python",
   "pygments_lexer": "ipython3",
   "version": "3.12.3"
  }
 },
 "nbformat": 4,
 "nbformat_minor": 5
}
